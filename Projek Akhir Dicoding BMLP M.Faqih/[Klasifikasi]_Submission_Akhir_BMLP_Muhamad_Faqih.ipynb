{
  "nbformat": 4,
  "nbformat_minor": 0,
  "metadata": {
    "colab": {
      "provenance": []
    },
    "kernelspec": {
      "name": "python3",
      "display_name": "Python 3"
    },
    "language_info": {
      "name": "python"
    }
  },
  "cells": [
    {
      "cell_type": "markdown",
      "source": [
        "# **1. Import Library**"
      ],
      "metadata": {
        "id": "iwj3Tc97n8NZ"
      }
    },
    {
      "cell_type": "code",
      "source": [
        "import pandas as pd\n",
        "import numpy as np\n",
        "import seaborn as sns\n",
        "import matplotlib.pyplot as plt\n",
        "from sklearn.model_selection import train_test_split\n",
        "from sklearn.preprocessing import LabelEncoder, StandardScaler, MinMaxScaler\n",
        "from sklearn.neighbors import KNeighborsClassifier\n",
        "from sklearn.tree import DecisionTreeClassifier\n",
        "from sklearn.linear_model import LogisticRegression\n",
        "from sklearn.ensemble import RandomForestClassifier\n",
        "from sklearn.svm import SVC\n",
        "from sklearn.metrics import confusion_matrix, accuracy_score, precision_score, recall_score, f1_score"
      ],
      "metadata": {
        "id": "i217sJEMn85Z"
      },
      "execution_count": null,
      "outputs": []
    },
    {
      "cell_type": "markdown",
      "source": [
        "# **2. Memuat Dataset dari Hasil Clustering**"
      ],
      "metadata": {
        "id": "uR1oBu8qoVZC"
      }
    },
    {
      "cell_type": "code",
      "source": [
        "df= pd.read_csv('/content/dataset_with_clusters.csv')\n",
        "\n",
        "# Periksa beberapa baris pertama data\n",
        "print(df.head())\n"
      ],
      "metadata": {
        "colab": {
          "base_uri": "https://localhost:8080/"
        },
        "id": "GyBbY6m-oV-O",
        "outputId": "98a004f7-7698-47c6-dee2-029001f6a334"
      },
      "execution_count": null,
      "outputs": [
        {
          "output_type": "stream",
          "name": "stdout",
          "text": [
            "     Income  Marital_Status  Expenses  Cluster\n",
            "0 -1.066487               1 -0.354236        2\n",
            "1  0.380126               1  0.439212        0\n",
            "2  0.617615               0  0.706424        3\n",
            "3 -0.688666               0 -0.370617        1\n",
            "4 -1.444643               0 -0.037881        1\n"
          ]
        }
      ]
    },
    {
      "cell_type": "code",
      "source": [
        "df.info()"
      ],
      "metadata": {
        "colab": {
          "base_uri": "https://localhost:8080/"
        },
        "id": "kjlKiJGDrD65",
        "outputId": "2948b835-3703-4467-e2d2-c8d8ed1d70e0"
      },
      "execution_count": null,
      "outputs": [
        {
          "output_type": "stream",
          "name": "stdout",
          "text": [
            "<class 'pandas.core.frame.DataFrame'>\n",
            "RangeIndex: 1792 entries, 0 to 1791\n",
            "Data columns (total 4 columns):\n",
            " #   Column          Non-Null Count  Dtype  \n",
            "---  ------          --------------  -----  \n",
            " 0   Income          1792 non-null   float64\n",
            " 1   Marital_Status  1792 non-null   int64  \n",
            " 2   Expenses        1792 non-null   float64\n",
            " 3   Cluster         1792 non-null   int64  \n",
            "dtypes: float64(2), int64(2)\n",
            "memory usage: 56.1 KB\n"
          ]
        }
      ]
    },
    {
      "cell_type": "code",
      "source": [
        "df.describe()"
      ],
      "metadata": {
        "colab": {
          "base_uri": "https://localhost:8080/",
          "height": 300
        },
        "id": "KCMcC4XTsLqr",
        "outputId": "9d4e5d8b-677d-47e5-e98e-70b8dc0f4351"
      },
      "execution_count": null,
      "outputs": [
        {
          "output_type": "execute_result",
          "data": {
            "text/plain": [
              "            Income  Marital_Status     Expenses      Cluster\n",
              "count  1792.000000     1792.000000  1792.000000  1792.000000\n",
              "mean      0.006874        0.347098     0.205799     1.660714\n",
              "std       0.794287        0.476180     0.617774     1.077591\n",
              "min      -1.527022        0.000000    -0.400307     0.000000\n",
              "25%      -0.507343        0.000000    -0.337855     1.000000\n",
              "50%      -0.014183        0.000000    -0.027643     2.000000\n",
              "75%       0.490848        1.000000     0.652163     3.000000\n",
              "max      18.775747        1.000000     2.179678     3.000000"
            ],
            "text/html": [
              "\n",
              "  <div id=\"df-1d19e88d-75fd-4ecb-bb85-f5f5cba6729f\" class=\"colab-df-container\">\n",
              "    <div>\n",
              "<style scoped>\n",
              "    .dataframe tbody tr th:only-of-type {\n",
              "        vertical-align: middle;\n",
              "    }\n",
              "\n",
              "    .dataframe tbody tr th {\n",
              "        vertical-align: top;\n",
              "    }\n",
              "\n",
              "    .dataframe thead th {\n",
              "        text-align: right;\n",
              "    }\n",
              "</style>\n",
              "<table border=\"1\" class=\"dataframe\">\n",
              "  <thead>\n",
              "    <tr style=\"text-align: right;\">\n",
              "      <th></th>\n",
              "      <th>Income</th>\n",
              "      <th>Marital_Status</th>\n",
              "      <th>Expenses</th>\n",
              "      <th>Cluster</th>\n",
              "    </tr>\n",
              "  </thead>\n",
              "  <tbody>\n",
              "    <tr>\n",
              "      <th>count</th>\n",
              "      <td>1792.000000</td>\n",
              "      <td>1792.000000</td>\n",
              "      <td>1792.000000</td>\n",
              "      <td>1792.000000</td>\n",
              "    </tr>\n",
              "    <tr>\n",
              "      <th>mean</th>\n",
              "      <td>0.006874</td>\n",
              "      <td>0.347098</td>\n",
              "      <td>0.205799</td>\n",
              "      <td>1.660714</td>\n",
              "    </tr>\n",
              "    <tr>\n",
              "      <th>std</th>\n",
              "      <td>0.794287</td>\n",
              "      <td>0.476180</td>\n",
              "      <td>0.617774</td>\n",
              "      <td>1.077591</td>\n",
              "    </tr>\n",
              "    <tr>\n",
              "      <th>min</th>\n",
              "      <td>-1.527022</td>\n",
              "      <td>0.000000</td>\n",
              "      <td>-0.400307</td>\n",
              "      <td>0.000000</td>\n",
              "    </tr>\n",
              "    <tr>\n",
              "      <th>25%</th>\n",
              "      <td>-0.507343</td>\n",
              "      <td>0.000000</td>\n",
              "      <td>-0.337855</td>\n",
              "      <td>1.000000</td>\n",
              "    </tr>\n",
              "    <tr>\n",
              "      <th>50%</th>\n",
              "      <td>-0.014183</td>\n",
              "      <td>0.000000</td>\n",
              "      <td>-0.027643</td>\n",
              "      <td>2.000000</td>\n",
              "    </tr>\n",
              "    <tr>\n",
              "      <th>75%</th>\n",
              "      <td>0.490848</td>\n",
              "      <td>1.000000</td>\n",
              "      <td>0.652163</td>\n",
              "      <td>3.000000</td>\n",
              "    </tr>\n",
              "    <tr>\n",
              "      <th>max</th>\n",
              "      <td>18.775747</td>\n",
              "      <td>1.000000</td>\n",
              "      <td>2.179678</td>\n",
              "      <td>3.000000</td>\n",
              "    </tr>\n",
              "  </tbody>\n",
              "</table>\n",
              "</div>\n",
              "    <div class=\"colab-df-buttons\">\n",
              "\n",
              "  <div class=\"colab-df-container\">\n",
              "    <button class=\"colab-df-convert\" onclick=\"convertToInteractive('df-1d19e88d-75fd-4ecb-bb85-f5f5cba6729f')\"\n",
              "            title=\"Convert this dataframe to an interactive table.\"\n",
              "            style=\"display:none;\">\n",
              "\n",
              "  <svg xmlns=\"http://www.w3.org/2000/svg\" height=\"24px\" viewBox=\"0 -960 960 960\">\n",
              "    <path d=\"M120-120v-720h720v720H120Zm60-500h600v-160H180v160Zm220 220h160v-160H400v160Zm0 220h160v-160H400v160ZM180-400h160v-160H180v160Zm440 0h160v-160H620v160ZM180-180h160v-160H180v160Zm440 0h160v-160H620v160Z\"/>\n",
              "  </svg>\n",
              "    </button>\n",
              "\n",
              "  <style>\n",
              "    .colab-df-container {\n",
              "      display:flex;\n",
              "      gap: 12px;\n",
              "    }\n",
              "\n",
              "    .colab-df-convert {\n",
              "      background-color: #E8F0FE;\n",
              "      border: none;\n",
              "      border-radius: 50%;\n",
              "      cursor: pointer;\n",
              "      display: none;\n",
              "      fill: #1967D2;\n",
              "      height: 32px;\n",
              "      padding: 0 0 0 0;\n",
              "      width: 32px;\n",
              "    }\n",
              "\n",
              "    .colab-df-convert:hover {\n",
              "      background-color: #E2EBFA;\n",
              "      box-shadow: 0px 1px 2px rgba(60, 64, 67, 0.3), 0px 1px 3px 1px rgba(60, 64, 67, 0.15);\n",
              "      fill: #174EA6;\n",
              "    }\n",
              "\n",
              "    .colab-df-buttons div {\n",
              "      margin-bottom: 4px;\n",
              "    }\n",
              "\n",
              "    [theme=dark] .colab-df-convert {\n",
              "      background-color: #3B4455;\n",
              "      fill: #D2E3FC;\n",
              "    }\n",
              "\n",
              "    [theme=dark] .colab-df-convert:hover {\n",
              "      background-color: #434B5C;\n",
              "      box-shadow: 0px 1px 3px 1px rgba(0, 0, 0, 0.15);\n",
              "      filter: drop-shadow(0px 1px 2px rgba(0, 0, 0, 0.3));\n",
              "      fill: #FFFFFF;\n",
              "    }\n",
              "  </style>\n",
              "\n",
              "    <script>\n",
              "      const buttonEl =\n",
              "        document.querySelector('#df-1d19e88d-75fd-4ecb-bb85-f5f5cba6729f button.colab-df-convert');\n",
              "      buttonEl.style.display =\n",
              "        google.colab.kernel.accessAllowed ? 'block' : 'none';\n",
              "\n",
              "      async function convertToInteractive(key) {\n",
              "        const element = document.querySelector('#df-1d19e88d-75fd-4ecb-bb85-f5f5cba6729f');\n",
              "        const dataTable =\n",
              "          await google.colab.kernel.invokeFunction('convertToInteractive',\n",
              "                                                    [key], {});\n",
              "        if (!dataTable) return;\n",
              "\n",
              "        const docLinkHtml = 'Like what you see? Visit the ' +\n",
              "          '<a target=\"_blank\" href=https://colab.research.google.com/notebooks/data_table.ipynb>data table notebook</a>'\n",
              "          + ' to learn more about interactive tables.';\n",
              "        element.innerHTML = '';\n",
              "        dataTable['output_type'] = 'display_data';\n",
              "        await google.colab.output.renderOutput(dataTable, element);\n",
              "        const docLink = document.createElement('div');\n",
              "        docLink.innerHTML = docLinkHtml;\n",
              "        element.appendChild(docLink);\n",
              "      }\n",
              "    </script>\n",
              "  </div>\n",
              "\n",
              "\n",
              "<div id=\"df-491d91b3-4341-4c9b-b0e3-5a04ab26dd3d\">\n",
              "  <button class=\"colab-df-quickchart\" onclick=\"quickchart('df-491d91b3-4341-4c9b-b0e3-5a04ab26dd3d')\"\n",
              "            title=\"Suggest charts\"\n",
              "            style=\"display:none;\">\n",
              "\n",
              "<svg xmlns=\"http://www.w3.org/2000/svg\" height=\"24px\"viewBox=\"0 0 24 24\"\n",
              "     width=\"24px\">\n",
              "    <g>\n",
              "        <path d=\"M19 3H5c-1.1 0-2 .9-2 2v14c0 1.1.9 2 2 2h14c1.1 0 2-.9 2-2V5c0-1.1-.9-2-2-2zM9 17H7v-7h2v7zm4 0h-2V7h2v10zm4 0h-2v-4h2v4z\"/>\n",
              "    </g>\n",
              "</svg>\n",
              "  </button>\n",
              "\n",
              "<style>\n",
              "  .colab-df-quickchart {\n",
              "      --bg-color: #E8F0FE;\n",
              "      --fill-color: #1967D2;\n",
              "      --hover-bg-color: #E2EBFA;\n",
              "      --hover-fill-color: #174EA6;\n",
              "      --disabled-fill-color: #AAA;\n",
              "      --disabled-bg-color: #DDD;\n",
              "  }\n",
              "\n",
              "  [theme=dark] .colab-df-quickchart {\n",
              "      --bg-color: #3B4455;\n",
              "      --fill-color: #D2E3FC;\n",
              "      --hover-bg-color: #434B5C;\n",
              "      --hover-fill-color: #FFFFFF;\n",
              "      --disabled-bg-color: #3B4455;\n",
              "      --disabled-fill-color: #666;\n",
              "  }\n",
              "\n",
              "  .colab-df-quickchart {\n",
              "    background-color: var(--bg-color);\n",
              "    border: none;\n",
              "    border-radius: 50%;\n",
              "    cursor: pointer;\n",
              "    display: none;\n",
              "    fill: var(--fill-color);\n",
              "    height: 32px;\n",
              "    padding: 0;\n",
              "    width: 32px;\n",
              "  }\n",
              "\n",
              "  .colab-df-quickchart:hover {\n",
              "    background-color: var(--hover-bg-color);\n",
              "    box-shadow: 0 1px 2px rgba(60, 64, 67, 0.3), 0 1px 3px 1px rgba(60, 64, 67, 0.15);\n",
              "    fill: var(--button-hover-fill-color);\n",
              "  }\n",
              "\n",
              "  .colab-df-quickchart-complete:disabled,\n",
              "  .colab-df-quickchart-complete:disabled:hover {\n",
              "    background-color: var(--disabled-bg-color);\n",
              "    fill: var(--disabled-fill-color);\n",
              "    box-shadow: none;\n",
              "  }\n",
              "\n",
              "  .colab-df-spinner {\n",
              "    border: 2px solid var(--fill-color);\n",
              "    border-color: transparent;\n",
              "    border-bottom-color: var(--fill-color);\n",
              "    animation:\n",
              "      spin 1s steps(1) infinite;\n",
              "  }\n",
              "\n",
              "  @keyframes spin {\n",
              "    0% {\n",
              "      border-color: transparent;\n",
              "      border-bottom-color: var(--fill-color);\n",
              "      border-left-color: var(--fill-color);\n",
              "    }\n",
              "    20% {\n",
              "      border-color: transparent;\n",
              "      border-left-color: var(--fill-color);\n",
              "      border-top-color: var(--fill-color);\n",
              "    }\n",
              "    30% {\n",
              "      border-color: transparent;\n",
              "      border-left-color: var(--fill-color);\n",
              "      border-top-color: var(--fill-color);\n",
              "      border-right-color: var(--fill-color);\n",
              "    }\n",
              "    40% {\n",
              "      border-color: transparent;\n",
              "      border-right-color: var(--fill-color);\n",
              "      border-top-color: var(--fill-color);\n",
              "    }\n",
              "    60% {\n",
              "      border-color: transparent;\n",
              "      border-right-color: var(--fill-color);\n",
              "    }\n",
              "    80% {\n",
              "      border-color: transparent;\n",
              "      border-right-color: var(--fill-color);\n",
              "      border-bottom-color: var(--fill-color);\n",
              "    }\n",
              "    90% {\n",
              "      border-color: transparent;\n",
              "      border-bottom-color: var(--fill-color);\n",
              "    }\n",
              "  }\n",
              "</style>\n",
              "\n",
              "  <script>\n",
              "    async function quickchart(key) {\n",
              "      const quickchartButtonEl =\n",
              "        document.querySelector('#' + key + ' button');\n",
              "      quickchartButtonEl.disabled = true;  // To prevent multiple clicks.\n",
              "      quickchartButtonEl.classList.add('colab-df-spinner');\n",
              "      try {\n",
              "        const charts = await google.colab.kernel.invokeFunction(\n",
              "            'suggestCharts', [key], {});\n",
              "      } catch (error) {\n",
              "        console.error('Error during call to suggestCharts:', error);\n",
              "      }\n",
              "      quickchartButtonEl.classList.remove('colab-df-spinner');\n",
              "      quickchartButtonEl.classList.add('colab-df-quickchart-complete');\n",
              "    }\n",
              "    (() => {\n",
              "      let quickchartButtonEl =\n",
              "        document.querySelector('#df-491d91b3-4341-4c9b-b0e3-5a04ab26dd3d button');\n",
              "      quickchartButtonEl.style.display =\n",
              "        google.colab.kernel.accessAllowed ? 'block' : 'none';\n",
              "    })();\n",
              "  </script>\n",
              "</div>\n",
              "\n",
              "    </div>\n",
              "  </div>\n"
            ],
            "application/vnd.google.colaboratory.intrinsic+json": {
              "type": "dataframe",
              "summary": "{\n  \"name\": \"df\",\n  \"rows\": 8,\n  \"fields\": [\n    {\n      \"column\": \"Income\",\n      \"properties\": {\n        \"dtype\": \"number\",\n        \"std\": 632.6925227561948,\n        \"min\": -1.5270220756618118,\n        \"max\": 1792.0,\n        \"num_unique_values\": 8,\n        \"samples\": [\n          0.00687396840189894,\n          -0.01418277304509785,\n          1792.0\n        ],\n        \"semantic_type\": \"\",\n        \"description\": \"\"\n      }\n    },\n    {\n      \"column\": \"Marital_Status\",\n      \"properties\": {\n        \"dtype\": \"number\",\n        \"std\": 633.425215129752,\n        \"min\": 0.0,\n        \"max\": 1792.0,\n        \"num_unique_values\": 5,\n        \"samples\": [\n          0.3470982142857143,\n          1.0,\n          0.4761801940143853\n        ],\n        \"semantic_type\": \"\",\n        \"description\": \"\"\n      }\n    },\n    {\n      \"column\": \"Expenses\",\n      \"properties\": {\n        \"dtype\": \"number\",\n        \"std\": 633.4222567537228,\n        \"min\": -0.4003071410289224,\n        \"max\": 1792.0,\n        \"num_unique_values\": 8,\n        \"samples\": [\n          0.20579877234999452,\n          -0.0276426926030202,\n          1792.0\n        ],\n        \"semantic_type\": \"\",\n        \"description\": \"\"\n      }\n    },\n    {\n      \"column\": \"Cluster\",\n      \"properties\": {\n        \"dtype\": \"number\",\n        \"std\": 632.975618446121,\n        \"min\": 0.0,\n        \"max\": 1792.0,\n        \"num_unique_values\": 7,\n        \"samples\": [\n          1792.0,\n          1.6607142857142858,\n          2.0\n        ],\n        \"semantic_type\": \"\",\n        \"description\": \"\"\n      }\n    }\n  ]\n}"
            }
          },
          "metadata": {},
          "execution_count": 116
        }
      ]
    },
    {
      "cell_type": "code",
      "source": [
        "# Distribusi semua fitur\n",
        "plt.figure(figsize=(12, 6))\n",
        "for i, col in enumerate(df.columns, 1):\n",
        "    plt.subplot(2, 4, i)\n",
        "    sns.histplot(df[col], kde=True)"
      ],
      "metadata": {
        "colab": {
          "base_uri": "https://localhost:8080/",
          "height": 291
        },
        "id": "LIJ8CuwkrSIR",
        "outputId": "3bfe48dd-8ce4-4db1-c0a7-f4cd36e7c3ea"
      },
      "execution_count": null,
      "outputs": [
        {
          "output_type": "display_data",
          "data": {
            "text/plain": [
              "<Figure size 1200x600 with 4 Axes>"
            ],
            "image/png": "[encoded data removed]"
          },
          "metadata": {}
        }
      ]
    },
    {
      "cell_type": "code",
      "source": [
        "# Clipping nilai ekstrem\n",
        "df['Expenses'] = df['Expenses'].clip(lower=df['Expenses'].quantile(0.01), upper=df['Expenses'].quantile(0.99))\n",
        "df['Income'] = df['Income'].clip(lower=df['Income'].quantile(0.01), upper=df['Income'].quantile(0.99))"
      ],
      "metadata": {
        "id": "QX5gxIggr1pj"
      },
      "execution_count": null,
      "outputs": []
    },
    {
      "cell_type": "code",
      "source": [
        "# Heatmap korelasi\n",
        "plt.figure(figsize=(10, 8))\n",
        "sns.heatmap(df.corr(), annot=True, cmap='coolwarm')\n",
        "plt.title('Heatmap Korelasi Fitur')\n",
        "plt.show()"
      ],
      "metadata": {
        "colab": {
          "base_uri": "https://localhost:8080/",
          "height": 699
        },
        "id": "VA1T5rPArMJQ",
        "outputId": "e4a78194-e80b-4448-d3d3-a7df3848f8bd"
      },
      "execution_count": null,
      "outputs": [
        {
          "output_type": "display_data",
          "data": {
            "text/plain": [
              "<Figure size 1000x800 with 2 Axes>"
            ],
            "image/png": "[encoded data removed]"
          },
          "metadata": {}
        }
      ]
    },
    {
      "cell_type": "markdown",
      "source": [
        "# **3. Data Splitting**"
      ],
      "metadata": {
        "id": "sB8Gxq02pMxD"
      }
    },
    {
      "cell_type": "code",
      "source": [
        "# Misalkan kita ingin membagi target menjadi dua kelas: 'High' dan 'Low' berdasarkan threshold\n",
        "threshold = df['Expenses'].median()  # Menggunakan median sebagai threshold\n",
        "\n",
        "# Mengubah target menjadi kategori: 'High' (1) dan 'Low' (0)\n",
        "y_class = (df['Expenses'] > threshold).astype(int)\n",
        "\n",
        "# Membagi data menjadi train dan test\n",
        "X = df.drop('Expenses', axis=1)  # Menggunakan kolom lainnya sebagai fitur\n",
        "y = y_class  # Target yang sudah dikategorikan\n",
        "\n",
        "X_train, X_test, y_train, y_test = train_test_split(X, y, test_size=0.2, random_state=42)"
      ],
      "metadata": {
        "id": "FpM7H59spP75"
      },
      "execution_count": null,
      "outputs": []
    },
    {
      "cell_type": "code",
      "source": [
        "# Inisialisasi scaler\n",
        "scaler = MinMaxScaler()\n",
        "\n",
        "# Pilih semua kolom numerik\n",
        "numerical_cols = df.select_dtypes(include=['float64', 'int64']).columns\n",
        "\n",
        "# Terapkan MinMaxScaler\n",
        "df[numerical_cols] = scaler.fit_transform(df[numerical_cols])\n",
        "print(df.head())"
      ],
      "metadata": {
        "colab": {
          "base_uri": "https://localhost:8080/"
        },
        "id": "No14aYkBsg0Y",
        "outputId": "6d2694b2-f135-4e71-88b7-4ed2da265166"
      },
      "execution_count": null,
      "outputs": [
        {
          "output_type": "stream",
          "name": "stdout",
          "text": [
            "     Income  Marital_Status  Expenses   Cluster\n",
            "0  0.107179             1.0  0.017975  0.666667\n",
            "1  0.652431             1.0  0.384579  0.000000\n",
            "2  0.741945             0.0  0.508042  1.000000\n",
            "3  0.249586             0.0  0.010407  0.333333\n",
            "4  0.000000             0.0  0.164144  0.333333\n"
          ]
        }
      ]
    },
    {
      "cell_type": "code",
      "source": [
        "# Tampilkan bentuk set pelatihan dan set uji untuk memastikan split (20% data latih dan 80% data uji)\n",
        "print(f\"Training set shape: X_train={X_train.shape}, y_train={y_train.shape}\")\n",
        "print(f\"Test set shape: X_test={X_test.shape}, y_test={y_test.shape}\")"
      ],
      "metadata": {
        "colab": {
          "base_uri": "https://localhost:8080/"
        },
        "id": "MZMNsLpCtP5n",
        "outputId": "e711836b-5ab1-4824-c0a8-844011316a88"
      },
      "execution_count": null,
      "outputs": [
        {
          "output_type": "stream",
          "name": "stdout",
          "text": [
            "Training set shape: X_train=(1433, 3), y_train=(1433,)\n",
            "Test set shape: X_test=(359, 3), y_test=(359,)\n"
          ]
        }
      ]
    },
    {
      "cell_type": "markdown",
      "source": [
        "# **4. Membangun Model Klasifikasi**\n"
      ],
      "metadata": {
        "id": "nXR224bSpyJq"
      }
    },
    {
      "cell_type": "markdown",
      "source": [
        "## **a. Membangun Model Klasifikasi**"
      ],
      "metadata": {
        "id": "v7WehX3hp1Z5"
      }
    },
    {
      "cell_type": "code",
      "source": [
        "# Inisialisasi model klasifikasi\n",
        "knn = KNeighborsClassifier()\n",
        "dt = DecisionTreeClassifier()\n",
        "rf = RandomForestClassifier()\n",
        "svm = SVC()\n",
        "\n",
        "# Melatih model knn\n",
        "knn.fit(X_train, y_train)\n",
        "y_pred_knn = knn.predict(X_test)\n",
        "\n",
        "# Melatih model dt\n",
        "dt.fit(X_train, y_train)\n",
        "y_pred_dt = dt.predict(X_test)\n",
        "\n",
        "# Melatih model rf\n",
        "rf.fit(X_train, y_train)\n",
        "y_pred_rf = rf.predict(X_test)\n",
        "\n",
        "# Melatih model svm\n",
        "svm.fit(X_train, y_train)\n",
        "y_pred_svm = svm.predict(X_test)\n",
        "\n",
        "# Validasi latih model\n",
        "print(\"Model Sudah Dibuat\")"
      ],
      "metadata": {
        "colab": {
          "base_uri": "https://localhost:8080/"
        },
        "id": "CpcSAEWrp4vB",
        "outputId": "f6f35461-e921-429b-a5e4-908df0ab0957"
      },
      "execution_count": null,
      "outputs": [
        {
          "output_type": "stream",
          "name": "stdout",
          "text": [
            "Model Sudah Dibuat\n"
          ]
        }
      ]
    },
    {
      "cell_type": "markdown",
      "source": [
        "1. KNeighborsClassifier (KNN)\n",
        "\n",
        "Proses Kerja:\n",
        "\n",
        "KNeighborsClassifier adalah model berbasis instance yang mengklasifikasikan data berdasarkan tetangga terdekatnya.\n",
        "Model ini menghitung jarak (misalnya, Euclidean distance) antara data uji dengan data latih.\n",
        "Setelah itu, model memilih k tetangga terdekat dan memberikan label kelas berdasarkan mayoritas kelas dari k tetangga tersebut.\n",
        "\n",
        "2. DecisionTreeClassifier\n",
        "\n",
        "Proses Kerja:\n",
        "\n",
        "DecisionTreeClassifier membangun model berbentuk pohon keputusan, yang membagi data menjadi cabang berdasarkan fitur dengan cara yang mengurangi impurity (misalnya, Gini Impurity atau Entropy).\n",
        "Setiap cabang pohon mewakili keputusan atau aturan berdasarkan fitur tertentu, dan cabang terakhir (daun) menunjukkan kelas prediksi untuk data yang sesuai dengan aturan tersebut.\n",
        "\n",
        "3.   RandomForestClassifier\n",
        "\n",
        "Proses Kerja:\n",
        "\n",
        "RandomForestClassifier adalah model ensemble yang terdiri dari beberapa pohon keputusan.\n",
        "Setiap pohon keputusan dibangun menggunakan bootstrap aggregating (bagging), di mana sampel acak dari data pelatihan digunakan untuk membangun setiap pohon.\n",
        "Prediksi akhir diperoleh dengan melakukan voting mayoritas dari seluruh pohon.\n",
        "Model ini mengurangi overfitting yang sering terjadi pada pohon keputusan tunggal.\n",
        "\n",
        "4. SVM (Support Vector Machine)\n",
        "\n",
        "Proses Kerja:\n",
        "\n",
        "SVM mencari hyperplane yang memisahkan data dari berbagai kelas dengan margin terbesar.\n",
        "Dengan menggunakan kernel trick, SVM dapat menangani data non-linier dengan memetakan data ke ruang berdimensi lebih tinggi.\n",
        "SVM dapat digunakan baik untuk klasifikasi biner maupun multikelas."
      ],
      "metadata": {
        "id": "a4JM8CkHyMI8"
      }
    },
    {
      "cell_type": "markdown",
      "source": [
        "## **b. Evaluasi Model Klasifikasi**"
      ],
      "metadata": {
        "id": "78MFki3Ky2vW"
      }
    },
    {
      "cell_type": "code",
      "source": [
        "# Menghitung metrik evaluasi untuk setiap model\n",
        "def evaluate_model(y_test, y_pred):\n",
        "    accuracy = accuracy_score(y_test, y_pred)\n",
        "    f1 = f1_score(y_test, y_pred)\n",
        "    precision = precision_score(y_test, y_pred)\n",
        "    recall = recall_score(y_test, y_pred)\n",
        "    conf_matrix = confusion_matrix(y_test, y_pred)\n",
        "\n",
        "    return accuracy, f1, precision, recall, conf_matrix"
      ],
      "metadata": {
        "id": "QK0XZ4xuy52_"
      },
      "execution_count": null,
      "outputs": []
    },
    {
      "cell_type": "code",
      "source": [
        "# Evaluasi untuk knn\n",
        "accuracy_knn, f1_knn, precision_knn, recall_knn, conf_matrix_knn = evaluate_model(y_test, y_pred_knn)\n",
        "print(\"Evaluasi Model KNN:\")\n",
        "print(f\"Accuracy: {accuracy_knn:.4f}\")\n",
        "print(f\"F1-Score: {f1_knn:.4f}\")\n",
        "print(f\"Precision: {precision_knn:.4f}\")\n",
        "print(f\"Recall: {recall_knn:.4f}\")\n",
        "print(f\"Confusion Matrix:\\n{conf_matrix_knn}\\n\")"
      ],
      "metadata": {
        "colab": {
          "base_uri": "https://localhost:8080/"
        },
        "id": "2RW1_kxu2pP9",
        "outputId": "06f2a6da-0284-4b70-d407-a32d1880ecb0"
      },
      "execution_count": null,
      "outputs": [
        {
          "output_type": "stream",
          "name": "stdout",
          "text": [
            "Evaluasi Model KNN:\n",
            "Accuracy: 0.8719\n",
            "F1-Score: 0.8693\n",
            "Precision: 0.8547\n",
            "Recall: 0.8844\n",
            "Confusion Matrix:\n",
            "[[160  26]\n",
            " [ 20 153]]\n",
            "\n"
          ]
        }
      ]
    },
    {
      "cell_type": "code",
      "source": [
        "# Evaluasi untuk Decision Tree\n",
        "accuracy_dt, f1_dt, precision_dt, recall_dt, conf_matrix_dt = evaluate_model(y_test, y_pred_dt)\n",
        "print(\"Evaluasi Model Decision Tree:\")\n",
        "print(f\"Accuracy: {accuracy_dt:.4f}\")\n",
        "print(f\"F1-Score: {f1_dt:.4f}\")\n",
        "print(f\"Precision: {precision_dt:.4f}\")\n",
        "print(f\"Recall: {recall_dt:.4f}\")\n",
        "print(f\"Confusion Matrix:\\n{conf_matrix_dt}\\n\")\n"
      ],
      "metadata": {
        "colab": {
          "base_uri": "https://localhost:8080/"
        },
        "id": "zLZpdZs_26PP",
        "outputId": "5bedb377-a397-4006-fe13-b7b38b130b55"
      },
      "execution_count": null,
      "outputs": [
        {
          "output_type": "stream",
          "name": "stdout",
          "text": [
            "Evaluasi Model Decision Tree:\n",
            "Accuracy: 0.8524\n",
            "F1-Score: 0.8490\n",
            "Precision: 0.8371\n",
            "Recall: 0.8613\n",
            "Confusion Matrix:\n",
            "[[157  29]\n",
            " [ 24 149]]\n",
            "\n"
          ]
        }
      ]
    },
    {
      "cell_type": "code",
      "source": [
        "# Evaluasi untuk Random Forest\n",
        "accuracy_rf, f1_rf, precision_rf, recall_rf, conf_matrix_rf = evaluate_model(y_test, y_pred_rf)\n",
        "print(\"Evaluasi Model Random Forest:\")\n",
        "print(f\"Accuracy: {accuracy_rf:.4f}\")\n",
        "print(f\"F1-Score: {f1_rf:.4f}\")\n",
        "print(f\"Precision: {precision_rf:.4f}\")\n",
        "print(f\"Recall: {recall_rf:.4f}\")\n",
        "print(f\"Confusion Matrix:\\n{conf_matrix_rf}\\n\")"
      ],
      "metadata": {
        "colab": {
          "base_uri": "https://localhost:8080/"
        },
        "id": "19MQK-1h3EUV",
        "outputId": "5f41c589-4358-400e-c0a6-13b97aac9e4d"
      },
      "execution_count": null,
      "outputs": [
        {
          "output_type": "stream",
          "name": "stdout",
          "text": [
            "Evaluasi Model Random Forest:\n",
            "Accuracy: 0.8552\n",
            "F1-Score: 0.8506\n",
            "Precision: 0.8457\n",
            "Recall: 0.8555\n",
            "Confusion Matrix:\n",
            "[[159  27]\n",
            " [ 25 148]]\n",
            "\n"
          ]
        }
      ]
    },
    {
      "cell_type": "code",
      "source": [
        "# Evaluasi untuk SVM\n",
        "accuracy_svm, f1_svm, precision_svm, recall_svm, conf_matrix_svm = evaluate_model(y_test, y_pred_svm)\n",
        "print(\"Evaluasi Model SVM:\")\n",
        "print(f\"Accuracy: {accuracy_svm:.4f}\")\n",
        "print(f\"F1-Score: {f1_svm:.4f}\")\n",
        "print(f\"Precision: {precision_svm:.4f}\")\n",
        "print(f\"Recall: {recall_svm:.4f}\")\n",
        "print(f\"Confusion Matrix:\\n{conf_matrix_svm}\\n\")"
      ],
      "metadata": {
        "colab": {
          "base_uri": "https://localhost:8080/"
        },
        "id": "HjOhOjnA3Ov1",
        "outputId": "dbb9bcf5-b374-456a-daa2-4935715a2c27"
      },
      "execution_count": null,
      "outputs": [
        {
          "output_type": "stream",
          "name": "stdout",
          "text": [
            "Evaluasi Model SVM:\n",
            "Accuracy: 0.8969\n",
            "F1-Score: 0.8902\n",
            "Precision: 0.9146\n",
            "Recall: 0.8671\n",
            "Confusion Matrix:\n",
            "[[172  14]\n",
            " [ 23 150]]\n",
            "\n"
          ]
        }
      ]
    },
    {
      "cell_type": "code",
      "source": [
        "# Membuat confusion matrix untuk melihat detail prediksi benar dan salah.\n",
        "def print_confusion_matrix(y_test, y_pred, model_name):\n",
        "    cm = confusion_matrix(y_test, y_pred)\n",
        "    print(f\"Confusion Matrix untuk {model_name}:\")\n",
        "    print(cm)\n",
        "    print(\"True Positive (TP):\", cm[1, 1])\n",
        "    print(\"True Negative (TN):\", cm[0, 0])\n",
        "    print(\"False Positive (FP):\", cm[0, 1])\n",
        "    print(\"False Negative (FN):\", cm[1, 0])\n",
        "    print(\"\\n\")\n",
        "\n",
        "# Menampilkan confusion matrix untuk KNN\n",
        "print_confusion_matrix(y_test, y_pred_knn, \"KNN\")\n",
        "\n",
        "# Menampilkan confusion matrix untuk Decision Tree\n",
        "print_confusion_matrix(y_test, y_pred_dt, \"Decision Tree\")\n",
        "\n",
        "# Menampilkan confusion matrix untuk Random Forest\n",
        "print_confusion_matrix(y_test, y_pred_rf, \"Random Forest\")\n",
        "\n",
        "# Menampilkan confusion matrix untuk SVM\n",
        "print_confusion_matrix(y_test, y_pred_svm, \"SVM\")"
      ],
      "metadata": {
        "colab": {
          "base_uri": "https://localhost:8080/"
        },
        "id": "lypKDHYZ3n_e",
        "outputId": "f916ae3a-3cd5-47be-e39d-0ca85312abaf"
      },
      "execution_count": null,
      "outputs": [
        {
          "output_type": "stream",
          "name": "stdout",
          "text": [
            "Confusion Matrix untuk KNN:\n",
            "[[160  26]\n",
            " [ 20 153]]\n",
            "True Positive (TP): 153\n",
            "True Negative (TN): 160\n",
            "False Positive (FP): 26\n",
            "False Negative (FN): 20\n",
            "\n",
            "\n",
            "Confusion Matrix untuk Decision Tree:\n",
            "[[157  29]\n",
            " [ 24 149]]\n",
            "True Positive (TP): 149\n",
            "True Negative (TN): 157\n",
            "False Positive (FP): 29\n",
            "False Negative (FN): 24\n",
            "\n",
            "\n",
            "Confusion Matrix untuk Random Forest:\n",
            "[[159  27]\n",
            " [ 25 148]]\n",
            "True Positive (TP): 148\n",
            "True Negative (TN): 159\n",
            "False Positive (FP): 27\n",
            "False Negative (FN): 25\n",
            "\n",
            "\n",
            "Confusion Matrix untuk SVM:\n",
            "[[172  14]\n",
            " [ 23 150]]\n",
            "True Positive (TP): 150\n",
            "True Negative (TN): 172\n",
            "False Positive (FP): 14\n",
            "False Negative (FN): 23\n",
            "\n",
            "\n"
          ]
        }
      ]
    },
    {
      "cell_type": "code",
      "source": [
        "# Kita buat visualisasi Confusion Matrixnya\n",
        "def plot_confusion_matrix(y_test, y_pred, model_name):\n",
        "    cm = confusion_matrix(y_test, y_pred)\n",
        "    plt.figure(figsize=(6, 4))\n",
        "    sns.heatmap(cm, annot=True, fmt=\"d\", cmap=\"Blues\", xticklabels=[\"Low\", \"High\"], yticklabels=[\"Low\", \"High\"])\n",
        "    plt.title(f\"Confusion Matrix - {model_name}\")\n",
        "    plt.xlabel(\"Predicted\")\n",
        "    plt.ylabel(\"True\")\n",
        "    plt.show()\n",
        "\n",
        "# Menampilkan confusion matrix untuk setiap model\n",
        "plot_confusion_matrix(y_test, y_pred_knn, \"KNN\")\n",
        "plot_confusion_matrix(y_test, y_pred_dt, \"Decision Tree\")\n",
        "plot_confusion_matrix(y_test, y_pred_rf, \"Random Forest\")\n",
        "plot_confusion_matrix(y_test, y_pred_svm, \"SVM\")"
      ],
      "metadata": {
        "colab": {
          "base_uri": "https://localhost:8080/",
          "height": 1000
        },
        "id": "Jls25ldb4Hxu",
        "outputId": "a8b55889-ea88-46aa-f1c7-783a3ba17e5b"
      },
      "execution_count": null,
      "outputs": [
        {
          "output_type": "display_data",
          "data": {
            "text/plain": [
              "<Figure size 600x400 with 2 Axes>"
            ],
            "image/png": "[encoded data removed]"
          },
          "metadata": {}
        },
        {
          "output_type": "display_data",
          "data": {
            "text/plain": [
              "<Figure size 600x400 with 2 Axes>"
            ],
            "image/png": "[encoded data removed]"
          },
          "metadata": {}
        },
        {
          "output_type": "display_data",
          "data": {
            "text/plain": [
              "<Figure size 600x400 with 2 Axes>"
            ],
            "image/png": "[encoded data removed]"
          },
          "metadata": {}
        },
        {
          "output_type": "display_data",
          "data": {
            "text/plain": [
              "<Figure size 600x400 with 2 Axes>"
            ],
            "image/png": "[encoded data removed]"
          },
          "metadata": {}
        }
      ]
    },
    {
      "cell_type": "code",
      "source": [
        "# Fungsi untuk menghitung dan menampilkan Akurasi dan F1-Score\n",
        "def print_metrics(model, X_train, X_test, y_train, y_test, y_pred, model_name):\n",
        "    # Prediksi pada training set\n",
        "    y_train_pred = model.predict(X_train)\n",
        "    accuracy_train = accuracy_score(y_train, y_train_pred)\n",
        "    f1_train = f1_score(y_train, y_train_pred, average='weighted')\n",
        "\n",
        "    # Akurasi pada Testing Set\n",
        "    accuracy_test = accuracy_score(y_test, y_pred)\n",
        "    f1_test = f1_score(y_test, y_pred, average='weighted')\n",
        "\n",
        "    print(f\"\\n{model_name} Metriks:\")\n",
        "    print(f\"Training Accuracy: {accuracy_train*100:.2f}%\")\n",
        "    print(f\"Training F1-Score: {f1_train*100:.2f}%\")\n",
        "    print(f\"Testing Accuracy: {accuracy_test*100:.2f}%\")\n",
        "    print(f\"Testing F1-Score: {f1_test*100:.2f}%\")\n",
        "\n",
        "    # Check if they meet the minimum 87% threshold\n",
        "    if accuracy_test >= 0.87 and f1_test >= 0.87:\n",
        "        print(f\"{model_name} telah memenuhi persyaratan akurasi minimum dan F1-Score!\")\n",
        "    else:\n",
        "        print(f\"{model_name} tidak memenuhi persyaratan akurasi minimum dan F1-Score!.\")\n",
        "\n",
        "# Menampilkan metrik untuk setiap model\n",
        "print_metrics(knn, X_train, X_test, y_train, y_test, y_pred_knn, \"KNN\")\n",
        "print_metrics(dt, X_train, X_test, y_train, y_test, y_pred_dt, \"Decision Tree\")\n",
        "print_metrics(rf, X_train, X_test, y_train, y_test, y_pred_rf, \"Random Forest\")\n",
        "print_metrics(svm, X_train, X_test, y_train, y_test, y_pred_svm, \"SVM\")"
      ],
      "metadata": {
        "colab": {
          "base_uri": "https://localhost:8080/"
        },
        "id": "P7PjsShr5NW4",
        "outputId": "f78535ad-e54f-4739-f1c3-d5c5e881fcb1"
      },
      "execution_count": null,
      "outputs": [
        {
          "output_type": "stream",
          "name": "stdout",
          "text": [
            "\n",
            "KNN Metriks:\n",
            "Training Accuracy: 90.16%\n",
            "Training F1-Score: 90.16%\n",
            "Testing Accuracy: 87.19%\n",
            "Testing F1-Score: 87.19%\n",
            "KNN telah memenuhi persyaratan akurasi minimum dan F1-Score!\n",
            "\n",
            "Decision Tree Metriks:\n",
            "Training Accuracy: 98.81%\n",
            "Training F1-Score: 98.81%\n",
            "Testing Accuracy: 85.24%\n",
            "Testing F1-Score: 85.24%\n",
            "Decision Tree tidak memenuhi persyaratan akurasi minimum dan F1-Score!.\n",
            "\n",
            "Random Forest Metriks:\n",
            "Training Accuracy: 98.81%\n",
            "Training F1-Score: 98.81%\n",
            "Testing Accuracy: 85.52%\n",
            "Testing F1-Score: 85.52%\n",
            "Random Forest tidak memenuhi persyaratan akurasi minimum dan F1-Score!.\n",
            "\n",
            "SVM Metriks:\n",
            "Training Accuracy: 88.42%\n",
            "Training F1-Score: 88.41%\n",
            "Testing Accuracy: 89.69%\n",
            "Testing F1-Score: 89.68%\n",
            "SVM telah memenuhi persyaratan akurasi minimum dan F1-Score!\n"
          ]
        }
      ]
    },
    {
      "cell_type": "markdown",
      "source": [
        "**Kesimpulan dari beberapa Algoritma diatas:**\n",
        "\n",
        "* KNN dan SVM berhasil memenuhi persyaratan minimum untuk accuracy dan F1-score pada testing set.\n",
        "* Decision Tree dan Random Forest memberikan akurasi yang sangat tinggi pada training set, namun akurasi pada testing set berada di bawah threshold yang ditentukan (87%).\n",
        "\n",
        "Hal ini menunjukkan bahwa KNN dan SVM lebih baik dalam memgeneralasi data yang tidak terlihat (data uji) dibandingkan dengan Decision Tree dan Random Forest yang tampaknya mengalami overfitting karena akurasi training set yang sangat tinggi.\n",
        "\n"
      ],
      "metadata": {
        "id": "sw2usQyi6ZjM"
      }
    },
    {
      "cell_type": "markdown",
      "source": [
        "## **c. Tuning Model Klasifikasi (Optional)**"
      ],
      "metadata": {
        "id": "397YF6eCXs0_"
      }
    },
    {
      "cell_type": "code",
      "source": [],
      "metadata": {
        "id": "NpoFqdeHX1H1"
      },
      "execution_count": null,
      "outputs": []
    },
    {
      "cell_type": "markdown",
      "source": [
        "## **d. Evaluasi Model Klasifikasi setelah Tuning (Optional)**"
      ],
      "metadata": {
        "id": "fX9FlQxZXvJ0"
      }
    },
    {
      "cell_type": "code",
      "source": [],
      "metadata": {
        "id": "0X3kOffJX2Es"
      },
      "execution_count": null,
      "outputs": []
    },
    {
      "cell_type": "markdown",
      "source": [
        "## **e. Analisis Hasil Evaluasi Model Klasifikasi**"
      ],
      "metadata": {
        "id": "KQIRFen06zDM"
      }
    },
    {
      "cell_type": "markdown",
      "source": [
        "**1. Identifikasi Kelemahan Model:**\n",
        "* Precision atau Recall rendah untuk kelas tertentu\n",
        "\n",
        "1) Pada beberapa model seperti Decision Tree dan Random Forest, meskipun akurasi pada training set sangat tinggi, testing accuracy dan F1-score lebih rendah. Hal ini menunjukkan model bisa saja mengalami overfitting, di mana model mempelajari data training secara berlebihan sehingga tidak dapat memprediksi data baru dengan baik.\n",
        "\n",
        "2) Precision dan Recall lebih rendah pada kelas tertentu (misalnya kelas 'Low' atau 'High' pada Expenses), terutama pada model Decision Tree dan Random Forest, yang mungkin menunjukkan bahwa model kesulitan untuk mengklasifikasikan beberapa contoh yang lebih sulit atau imbalanced di kelas tersebut.\n",
        "\n",
        "* Apakah model mengalami overfitting atau underfitting?\n",
        "\n",
        "1) Decision Tree dan Random Forest menunjukkan tanda-tanda overfitting,sangat baik pada training accuracy dan F1-score, tetapi testing accuracy dan F1-score lebih rendah. Ini mengindikasikan bahwa model mempelajari terlalu banyak detail dari data pelatihan dan kurang mampu menggeneralisasi ke data uji.\n",
        "\n",
        "2) KNN dan SVM menunjukkan performa yang lebih seimbang antara training dan testing, dengan hasil yang lebih baik dan lebih stabil di kedua set, yang menunjukkan bahwa model ini lebih baik dalam menghindari overfitting.\n",
        "\n",
        "**2. Rekomendasi Tindakan Lanjutan**\n",
        "\n",
        "1) Mengumpulkan Data Tambahan\n",
        "\n",
        "Jika overfitting menjadi masalah, mengumpulkan lebih banyak data yang representatif bisa membantu model lebih baik dalam generalisasi. Data tambahan akan memberikan lebih banyak variasi yang bisa membantu model memahami pola yang lebih luas dan mengurangi ketergantungan pada noise dari data training.\n",
        "\n",
        "2) Mencoba Algoritma Lain\n",
        "\n",
        "Jika hasilnya masih belum memuaskan, mencoba algoritma klasifikasi lain seperti Logistic Regression, Gradient Boosting, atau XGBoost dapat memberikan peningkatan performa. Algoritma ini sering kali lebih robust dan dapat menangani data yang lebih kompleks.\n",
        "\n",
        "3) Evaluasi Model dengan Cross-Validation\n",
        "\n",
        "Untuk memastikan bahwa model yang digunakan tidak bias dan dapat menggeneralisasi dengan baik, menggunakan teknik cross-validation akan memberikan gambaran lebih akurat tentang performa model secara keseluruhan.\n",
        "\n",
        "**KESIMPULAN**\n",
        "* KNN dan SVM cenderung lebih stabil dan memenuhi threshold accuracy dan F1-Score yang lebih baik pada data testing, sementara Decision Tree dan Random Forest mungkin perlu penyesuaian lebih lanjut untuk menghindari overfitting.\n",
        "* Overfitting adalah masalah yang paling jelas pada Decision Tree dan Random Forest, dan dapat diperbaiki dengan tuning parameter atau menggunakan teknik seperti pruning atau ensemble methods."
      ],
      "metadata": {
        "id": "ZvHGKDsW7SBu"
      }
    }
  ]
}